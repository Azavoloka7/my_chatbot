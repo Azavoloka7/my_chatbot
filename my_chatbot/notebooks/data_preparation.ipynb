{
  "steps": [
    {
      "name": "Tokenization",
      "description": "Splitting text into tokens or words."
    },
    {
      "name": "Normalization",
      "description": "Converting tokens into lowercase and removing punctuation."
    },
    {
      "name": "Vectorization",
      "description": "Converting text tokens into numerical vectors."
    },
    {
      "name": "Data Splitting",
      "description": "Dividing data into training and testing sets."
    }
  ]
}
