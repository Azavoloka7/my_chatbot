{
  "model": {
    "architecture": "Neural network with LSTM layers",
    "optimizer": "Adam",
    "loss_function": "Categorical cross-entropy",
    "metrics": ["Accuracy"]
  },
  "training": {
    "epochs": 50,
    "batch_size": 32,
    "validation_split": 0.2
  }
}
